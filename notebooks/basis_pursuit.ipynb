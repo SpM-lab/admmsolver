{
 "cells": [
  {
   "cell_type": "markdown",
   "metadata": {},
   "source": [
    "Basis pursuit\n",
    "=============\n",
    "\n",
    "Reimplementation of \n",
    "https://github.com/SpM-lab/CS-tools/tree/master/jpsj-review/basis_pursuit"
   ]
  },
  {
   "cell_type": "code",
   "execution_count": 1,
   "metadata": {},
   "outputs": [],
   "source": [
    "%load_ext autoreload"
   ]
  },
  {
   "cell_type": "code",
   "execution_count": 2,
   "metadata": {},
   "outputs": [],
   "source": [
    "%autoreload 2"
   ]
  },
  {
   "cell_type": "code",
   "execution_count": 3,
   "metadata": {},
   "outputs": [],
   "source": [
    "import sys\n",
    "sys.path.append(\"../src/\")"
   ]
  },
  {
   "cell_type": "code",
   "execution_count": 4,
   "metadata": {},
   "outputs": [],
   "source": [
    "from admmsolver.objectivefunc import LeastSquares, L1Regularizer\n",
    "from admmsolver.optimizer import SimpleOptimizer\n",
    "from admmsolver.matrix import identity\n",
    "%matplotlib inline\n",
    "from matplotlib import pyplot as plt\n",
    "import numpy as np"
   ]
  },
  {
   "cell_type": "code",
   "execution_count": 5,
   "metadata": {},
   "outputs": [],
   "source": [
    "# Dimension of the signal\n",
    "N = 1000\n",
    "\n",
    "M = 100\n",
    "K = 20    \n",
    "seed = 1234\n",
    "np.random.seed(seed)\n",
    "A = np.random.randn(M,N)\n",
    "\n",
    "#Make answer vector\n",
    "xanswer = np.zeros(N)\n",
    "xanswer[:K] = np.random.randn(K)\n",
    "xanswer = np.random.permutation(xanswer)\n",
    "\n",
    "y_calc = np.dot(A, xanswer)"
   ]
  },
  {
   "cell_type": "code",
   "execution_count": 6,
   "metadata": {},
   "outputs": [],
   "source": [
    "lstsq = LeastSquares(1.0, A, y_calc)\n",
    "l1 = L1Regularizer(1.0e-1, A.shape[1])\n",
    "equality_conditions = [\n",
    "      (1, 0, identity(N), identity(N), 1.0, None)\n",
    "]\n",
    "opt = SimpleOptimizer([lstsq, l1], equality_conditions)"
   ]
  },
  {
   "cell_type": "code",
   "execution_count": 7,
   "metadata": {},
   "outputs": [],
   "source": [
    "niter = 100\n",
    "opt.solve(niter)"
   ]
  },
  {
   "cell_type": "code",
   "execution_count": 8,
   "metadata": {},
   "outputs": [
    {
     "data": {
      "image/png": "[encoded data removed]",
      "text/plain": [
       "<Figure size 432x288 with 1 Axes>"
      ]
     },
     "metadata": {
      "needs_background": "light"
     },
     "output_type": "display_data"
    }
   ],
   "source": [
    "plt.plot(opt.x[0].real, label=\"x\")\n",
    "plt.plot(xanswer, label=\"answer\", ls=\"\", marker=\"o\")\n",
    "plt.show()"
   ]
  },
  {
   "cell_type": "code",
   "execution_count": 13,
   "metadata": {},
   "outputs": [
    {
     "name": "stdout",
     "output_type": "stream",
     "text": [
      "1.4312955709975443\n",
      "0.005407010762636388\n"
     ]
    }
   ],
   "source": [
    "print(np.abs(xanswer).max())\n",
    "print(np.abs(xanswer-opt.x[0]).max())"
   ]
  },
  {
   "cell_type": "code",
   "execution_count": null,
   "metadata": {},
   "outputs": [],
   "source": []
  }
 ],
 "metadata": {
  "kernelspec": {
   "display_name": "Python 3",
   "language": "python",
   "name": "python3"
  },
  "language_info": {
   "codemirror_mode": {
    "name": "ipython",
    "version": 3
   },
   "file_extension": ".py",
   "mimetype": "text/x-python",
   "name": "python",
   "nbconvert_exporter": "python",
   "pygments_lexer": "ipython3",
   "version": "3.9.9"
  }
 },
 "nbformat": 4,
 "nbformat_minor": 4
}
